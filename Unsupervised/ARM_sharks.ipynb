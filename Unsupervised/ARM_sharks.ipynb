{
  "nbformat": 4,
  "nbformat_minor": 0,
  "metadata": {
    "colab": {
      "provenance": []
    },
    "kernelspec": {
      "name": "ir",
      "display_name": "R"
    },
    "language_info": {
      "name": "R"
    }
  },
  "cells": [
    {
      "cell_type": "code",
      "execution_count": 1,
      "metadata": {
        "colab": {
          "base_uri": "https://localhost:8080/"
        },
        "id": "RFTPI24kad0E",
        "outputId": "a27ea91e-5099-4a7d-acfe-a67de0e089ea"
      },
      "outputs": [
        {
          "output_type": "stream",
          "name": "stderr",
          "text": [
            "Installing package into ‘/usr/local/lib/R/site-library’\n",
            "(as ‘lib’ is unspecified)\n",
            "\n",
            "Loading required package: Matrix\n",
            "\n",
            "\n",
            "Attaching package: ‘arules’\n",
            "\n",
            "\n",
            "The following objects are masked from ‘package:base’:\n",
            "\n",
            "    abbreviate, write\n",
            "\n",
            "\n"
          ]
        }
      ],
      "source": [
        "# install packages\n",
        "install.packages(\"arules\")\n",
        "library(arules)"
      ]
    },
    {
      "cell_type": "code",
      "source": [
        "# Read in data\n",
        "Sharks <- read.transactions(\"/content/basket_data.csv\",\n",
        "                            rm.duplicates = FALSE,\n",
        "                            format = 'basket',\n",
        "                            sep=\",\")\n",
        "inspect(Sharks[1:10])"
      ],
      "metadata": {
        "colab": {
          "base_uri": "https://localhost:8080/"
        },
        "id": "KBIlIkSRar3F",
        "outputId": "02900120-9425-48de-990b-67ce971352b0"
      },
      "execution_count": 35,
      "outputs": [
        {
          "output_type": "stream",
          "name": "stderr",
          "text": [
            "Warning message in readLines(file, encoding = encoding):\n",
            "“incomplete final line found on '/content/basket_data.csv'”\n",
            "Warning message in asMethod(object):\n",
            "“removing duplicated items in transactions”\n"
          ]
        },
        {
          "output_type": "stream",
          "name": "stdout",
          "text": [
            "     items                                  \n",
            "[1]  {swimming, Unprovoked}                 \n",
            "[2]  {fishing, Provoked}                    \n",
            "[3]  {snorkeling, Unprovoked}               \n",
            "[4]  {surfing, Unprovoked}                  \n",
            "[5]  {standing, Unprovoked}                 \n",
            "[6]  {boarding, boogie, Unprovoked}         \n",
            "[7]  {Unprovoked, wading}                   \n",
            "[8]  {boarding, boogie, Unprovoked}         \n",
            "[9]  {paddleboarding, stand, Unprovoked, up}\n",
            "[10] {surfing, Unprovoked}                  \n"
          ]
        }
      ]
    },
    {
      "cell_type": "code",
      "source": [
        "# apriori rule for sharks, activities that led to unprovoked attacks\n",
        "Unprovoked_ARM1 = arules::apriori(Sharks, parameter = list(support=.02,confidence=.02,minlen=2),\n",
        "                                appearance = list(default=\"lhs\", rhs=\"Unprovoked\"))\n",
        "\n",
        "Unprovoked_SortedARM1 <- sort(Unprovoked_ARM1, by=\"support\", decreasing=TRUE)\n",
        "inspect(Unprovoked_SortedARM1[1:10])"
      ],
      "metadata": {
        "colab": {
          "base_uri": "https://localhost:8080/"
        },
        "id": "d3gojdsYb5Ra",
        "outputId": "e70227bc-57c7-4d41-adc6-c646f0ada122"
      },
      "execution_count": 37,
      "outputs": [
        {
          "output_type": "stream",
          "name": "stdout",
          "text": [
            "Apriori\n",
            "\n",
            "Parameter specification:\n",
            " confidence minval smax arem  aval originalSupport maxtime support minlen\n",
            "       0.02    0.1    1 none FALSE            TRUE       5    0.02      2\n",
            " maxlen target  ext\n",
            "     10  rules TRUE\n",
            "\n",
            "Algorithmic control:\n",
            " filter tree heap memopt load sort verbose\n",
            "    0.1 TRUE TRUE  FALSE TRUE    2    TRUE\n",
            "\n",
            "Absolute minimum support count: 35 \n",
            "\n",
            "set item appearances ...[1 item(s)] done [0.00s].\n",
            "set transactions ...[351 item(s), 1759 transaction(s)] done [0.00s].\n",
            "sorting and recoding items ... [13 item(s)] done [0.00s].\n",
            "creating transaction tree ... done [0.00s].\n",
            "checking subsets of size 1 2 3 done [0.00s].\n",
            "writing ... [10 rule(s)] done [0.00s].\n",
            "creating S4 object  ... done [0.00s].\n",
            "     lhs                   rhs          support    confidence coverage  \n",
            "[1]  {surfing}          => {Unprovoked} 0.37635020 0.9807407  0.38374076\n",
            "[2]  {swimming}         => {Unprovoked} 0.16486640 0.9830508  0.16770893\n",
            "[3]  {wading}           => {Unprovoked} 0.06424105 0.9338843  0.06878908\n",
            "[4]  {diving}           => {Unprovoked} 0.05912450 0.8666667  0.06822058\n",
            "[5]  {boarding}         => {Unprovoked} 0.05059693 1.0000000  0.05059693\n",
            "[6]  {standing}         => {Unprovoked} 0.04377487 0.9746835  0.04491188\n",
            "[7]  {spearfishing}     => {Unprovoked} 0.04150085 0.8202247  0.05059693\n",
            "[8]  {boogie}           => {Unprovoked} 0.02842524 1.0000000  0.02842524\n",
            "[9]  {fishing}          => {Unprovoked} 0.02785674 0.4049587  0.06878908\n",
            "[10] {boarding, boogie} => {Unprovoked} 0.02728823 1.0000000  0.02728823\n",
            "     lift      count\n",
            "[1]  1.0788761 662  \n",
            "[2]  1.0814174 290  \n",
            "[3]  1.0273311 113  \n",
            "[4]  0.9533875 104  \n",
            "[5]  1.1000625  89  \n",
            "[6]  1.0722129  77  \n",
            "[7]  0.9022985  73  \n",
            "[8]  1.1000625  50  \n",
            "[9]  0.4454799  49  \n",
            "[10] 1.1000625  48  \n"
          ]
        }
      ]
    },
    {
      "cell_type": "code",
      "source": [
        "# apriori rule for sharks, activities that led to Provoked attacks\n",
        "Provoked_ARM1 = arules::apriori(Sharks, parameter = list(support=.02,confidence=.02, minlen=2),\n",
        "                                appearance = list(default=\"lhs\", rhs=\"Provoked\"))\n",
        "\n",
        "Provoked_SortedARM1 <- sort(Provoked_ARM1, by=\"support\", decreasing=TRUE)\n",
        "inspect(Provoked_SortedARM1)"
      ],
      "metadata": {
        "colab": {
          "base_uri": "https://localhost:8080/"
        },
        "id": "2C7QjEg4lecA",
        "outputId": "2d5ce12b-c7de-4eae-d9c1-292918b328de"
      },
      "execution_count": 34,
      "outputs": [
        {
          "output_type": "stream",
          "name": "stdout",
          "text": [
            "Apriori\n",
            "\n",
            "Parameter specification:\n",
            " confidence minval smax arem  aval originalSupport maxtime support minlen\n",
            "       0.02    0.1    1 none FALSE            TRUE       5    0.02      2\n",
            " maxlen target  ext\n",
            "     10  rules TRUE\n",
            "\n",
            "Algorithmic control:\n",
            " filter tree heap memopt load sort verbose\n",
            "    0.1 TRUE TRUE  FALSE TRUE    2    TRUE\n",
            "\n",
            "Absolute minimum support count: 35 \n",
            "\n",
            "set item appearances ...[1 item(s)] done [0.00s].\n",
            "set transactions ...[351 item(s), 1759 transaction(s)] done [0.00s].\n",
            "sorting and recoding items ... [13 item(s)] done [0.00s].\n",
            "creating transaction tree ... done [0.00s].\n",
            "checking subsets of size 1 2 3 done [0.00s].\n",
            "writing ... [1 rule(s)] done [0.00s].\n",
            "creating S4 object  ... done [0.00s].\n",
            "    lhs          rhs        support    confidence coverage   lift     count\n",
            "[1] {fishing} => {Provoked} 0.04093235 0.5950413  0.06878908 6.541736 72   \n"
          ]
        }
      ]
    },
    {
      "cell_type": "code",
      "source": [
        "# Support is 0.01 for unprovoked\n",
        "\n",
        "Unprovoked_ARM2 = arules::apriori(Sharks, parameter = list(support=.01,confidence=.01,minlen=2),\n",
        "                                appearance = list(default=\"lhs\", rhs=\"Unprovoked\"))\n",
        "\n",
        "Unprovoked_SortedARM2 <- sort(Unprovoked_ARM2, by=\"support\", decreasing=TRUE)\n",
        "inspect(Unprovoked_SortedARM2[1:15])"
      ],
      "metadata": {
        "colab": {
          "base_uri": "https://localhost:8080/"
        },
        "id": "fMyeL5GZkBEJ",
        "outputId": "d32a080c-a2f2-4fc8-84e3-6ec952b4fa6a"
      },
      "execution_count": 42,
      "outputs": [
        {
          "output_type": "stream",
          "name": "stdout",
          "text": [
            "Apriori\n",
            "\n",
            "Parameter specification:\n",
            " confidence minval smax arem  aval originalSupport maxtime support minlen\n",
            "       0.01    0.1    1 none FALSE            TRUE       5    0.01      2\n",
            " maxlen target  ext\n",
            "     10  rules TRUE\n",
            "\n",
            "Algorithmic control:\n",
            " filter tree heap memopt load sort verbose\n",
            "    0.1 TRUE TRUE  FALSE TRUE    2    TRUE\n",
            "\n",
            "Absolute minimum support count: 17 \n",
            "\n",
            "set item appearances ...[1 item(s)] done [0.00s].\n",
            "set transactions ...[351 item(s), 1759 transaction(s)] done [0.00s].\n",
            "sorting and recoding items ... [25 item(s)] done [0.00s].\n",
            "creating transaction tree ... done [0.00s].\n",
            "checking subsets of size 1 2 3 done [0.00s].\n",
            "writing ... [25 rule(s)] done [0.00s].\n",
            "creating S4 object  ... done [0.00s].\n",
            "     lhs                       rhs          support    confidence coverage  \n",
            "[1]  {surfing}              => {Unprovoked} 0.37635020 0.9807407  0.38374076\n",
            "[2]  {swimming}             => {Unprovoked} 0.16486640 0.9830508  0.16770893\n",
            "[3]  {wading}               => {Unprovoked} 0.06424105 0.9338843  0.06878908\n",
            "[4]  {diving}               => {Unprovoked} 0.05912450 0.8666667  0.06822058\n",
            "[5]  {boarding}             => {Unprovoked} 0.05059693 1.0000000  0.05059693\n",
            "[6]  {standing}             => {Unprovoked} 0.04377487 0.9746835  0.04491188\n",
            "[7]  {spearfishing}         => {Unprovoked} 0.04150085 0.8202247  0.05059693\n",
            "[8]  {boogie}               => {Unprovoked} 0.02842524 1.0000000  0.02842524\n",
            "[9]  {fishing}              => {Unprovoked} 0.02785674 0.4049587  0.06878908\n",
            "[10] {boarding, boogie}     => {Unprovoked} 0.02728823 1.0000000  0.02728823\n",
            "[11] {snorkeling}           => {Unprovoked} 0.01989767 0.9459459  0.02103468\n",
            "[12] {in}                   => {Unprovoked} 0.01989767 0.8333333  0.02387720\n",
            "[13] {free}                 => {Unprovoked} 0.01648664 0.9062500  0.01819215\n",
            "[14] {diving, free}         => {Unprovoked} 0.01648664 0.9062500  0.01819215\n",
            "[15] {diving, spearfishing} => {Unprovoked} 0.01250711 0.8800000  0.01421262\n",
            "     lift      count\n",
            "[1]  1.0788761 662  \n",
            "[2]  1.0814174 290  \n",
            "[3]  1.0273311 113  \n",
            "[4]  0.9533875 104  \n",
            "[5]  1.1000625  89  \n",
            "[6]  1.0722129  77  \n",
            "[7]  0.9022985  73  \n",
            "[8]  1.1000625  50  \n",
            "[9]  0.4454799  49  \n",
            "[10] 1.1000625  48  \n",
            "[11] 1.0405997  35  \n",
            "[12] 0.9167188  35  \n",
            "[13] 0.9969317  29  \n",
            "[14] 0.9969317  29  \n",
            "[15] 0.9680550  22  \n"
          ]
        }
      ]
    },
    {
      "cell_type": "code",
      "source": [
        "# apriori rule for sharks, activities that led to Provoked attacks, support is 0.01\n",
        "Provoked_ARM2 = arules::apriori(Sharks, parameter = list(support=.01,confidence=.01, minlen=2),\n",
        "                                appearance = list(default=\"lhs\", rhs=\"Provoked\"))\n",
        "\n",
        "Provoked_SortedARM2 <- sort(Provoked_ARM2, by=\"support\", decreasing=TRUE)\n",
        "inspect(Provoked_SortedARM2)\n",
        "\n",
        "# Still no more results than previously"
      ],
      "metadata": {
        "colab": {
          "base_uri": "https://localhost:8080/"
        },
        "id": "uZw4tpSKsIk5",
        "outputId": "c090e1dc-9c68-4bfe-d370-a258abd7c03e"
      },
      "execution_count": 44,
      "outputs": [
        {
          "output_type": "stream",
          "name": "stdout",
          "text": [
            "Apriori\n",
            "\n",
            "Parameter specification:\n",
            " confidence minval smax arem  aval originalSupport maxtime support minlen\n",
            "       0.01    0.1    1 none FALSE            TRUE       5    0.01      2\n",
            " maxlen target  ext\n",
            "     10  rules TRUE\n",
            "\n",
            "Algorithmic control:\n",
            " filter tree heap memopt load sort verbose\n",
            "    0.1 TRUE TRUE  FALSE TRUE    2    TRUE\n",
            "\n",
            "Absolute minimum support count: 17 \n",
            "\n",
            "set item appearances ...[1 item(s)] done [0.00s].\n",
            "set transactions ...[351 item(s), 1759 transaction(s)] done [0.00s].\n",
            "sorting and recoding items ... [25 item(s)] done [0.00s].\n",
            "creating transaction tree ... done [0.00s].\n",
            "checking subsets of size 1 2 3 done [0.00s].\n",
            "writing ... [1 rule(s)] done [0.00s].\n",
            "creating S4 object  ... done [0.00s].\n",
            "    lhs          rhs        support    confidence coverage   lift     count\n",
            "[1] {fishing} => {Provoked} 0.04093235 0.5950413  0.06878908 6.541736 72   \n"
          ]
        }
      ]
    },
    {
      "cell_type": "code",
      "source": [
        "# again with even lower support\n",
        "Provoked_ARM3 = arules::apriori(Sharks, parameter = list(support=.005,confidence=.005, minlen=2),\n",
        "                                appearance = list(default=\"lhs\", rhs=\"Provoked\"))\n",
        "\n",
        "Provoked_SortedARM3 <- sort(Provoked_ARM3, by=\"support\", decreasing=TRUE)\n",
        "inspect(Provoked_SortedARM3)\n",
        "\n"
      ],
      "metadata": {
        "colab": {
          "base_uri": "https://localhost:8080/"
        },
        "id": "T9g50I_EdqIM",
        "outputId": "6b29ee1e-341c-49e7-c595-eea7484bfe8a"
      },
      "execution_count": 45,
      "outputs": [
        {
          "output_type": "stream",
          "name": "stdout",
          "text": [
            "Apriori\n",
            "\n",
            "Parameter specification:\n",
            " confidence minval smax arem  aval originalSupport maxtime support minlen\n",
            "      0.005    0.1    1 none FALSE            TRUE       5   0.005      2\n",
            " maxlen target  ext\n",
            "     10  rules TRUE\n",
            "\n",
            "Algorithmic control:\n",
            " filter tree heap memopt load sort verbose\n",
            "    0.1 TRUE TRUE  FALSE TRUE    2    TRUE\n",
            "\n",
            "Absolute minimum support count: 8 \n",
            "\n",
            "set item appearances ...[1 item(s)] done [0.00s].\n",
            "set transactions ...[351 item(s), 1759 transaction(s)] done [0.00s].\n",
            "sorting and recoding items ... [42 item(s)] done [0.00s].\n",
            "creating transaction tree ... done [0.00s].\n",
            "checking subsets of size 1 2 3 4 done [0.00s].\n",
            "writing ... [4 rule(s)] done [0.00s].\n",
            "creating S4 object  ... done [0.00s].\n",
            "    lhs               rhs        support     confidence coverage   lift     \n",
            "[1] {fishing}      => {Provoked} 0.040932348 0.59504132 0.06878908 6.5417355\n",
            "[2] {spearfishing} => {Provoked} 0.009096077 0.17977528 0.05059693 1.9764045\n",
            "[3] {diving}       => {Provoked} 0.009096077 0.13333333 0.06822058 1.4658333\n",
            "[4] {surfing}      => {Provoked} 0.007390563 0.01925926 0.38374076 0.2117315\n",
            "    count\n",
            "[1] 72   \n",
            "[2] 16   \n",
            "[3] 16   \n",
            "[4] 13   \n"
          ]
        }
      ]
    }
  ]
}