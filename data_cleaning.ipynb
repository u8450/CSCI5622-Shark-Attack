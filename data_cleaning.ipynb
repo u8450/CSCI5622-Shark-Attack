{
 "cells": [
  {
   "cell_type": "code",
   "execution_count": 67,
   "metadata": {},
   "outputs": [],
   "source": [
    "import pandas as pd\n",
    "import matplotlib.pyplot as plt"
   ]
  },
  {
   "cell_type": "code",
   "execution_count": 68,
   "metadata": {},
   "outputs": [
    {
     "name": "stdout",
     "output_type": "stream",
     "text": [
      "<class 'pandas.core.frame.DataFrame'>\n",
      "RangeIndex: 100 entries, 0 to 99\n",
      "Data columns (total 9 columns):\n",
      " #   Column       Non-Null Count  Dtype  \n",
      "---  ------       --------------  -----  \n",
      " 0   Date         97 non-null     object \n",
      " 1   Year         99 non-null     float64\n",
      " 2   Type         100 non-null    object \n",
      " 3   Country      100 non-null    object \n",
      " 4   Area         100 non-null    object \n",
      " 5   Activity     96 non-null     object \n",
      " 6   Sex          95 non-null     object \n",
      " 7   Age          65 non-null     float64\n",
      " 8   Fatal (Y/N)  100 non-null    object \n",
      "dtypes: float64(2), object(7)\n",
      "memory usage: 7.2+ KB\n",
      "None\n"
     ]
    }
   ],
   "source": [
    "df = pd.read_csv(\"shark.csv\")\n",
    "print(df.info())"
   ]
  },
  {
   "cell_type": "code",
   "execution_count": 69,
   "metadata": {},
   "outputs": [
    {
     "name": "stdout",
     "output_type": "stream",
     "text": [
      "Categorical columns : ['Date', 'Type', 'Country', 'Area', 'Activity', 'Sex', 'Fatal (Y/N)']\n",
      "Numerical columns : ['Year', 'Age']\n"
     ]
    }
   ],
   "source": [
    "# Categorical columns\n",
    "cat_col = [col for col in df.columns if df[col].dtype == 'object']\n",
    "print('Categorical columns :',cat_col)\n",
    "# Numerical columns\n",
    "num_col = [col for col in df.columns if df[col].dtype != 'object']\n",
    "print('Numerical columns :',num_col)"
   ]
  },
  {
   "cell_type": "code",
   "execution_count": 70,
   "metadata": {},
   "outputs": [
    {
     "name": "stdout",
     "output_type": "stream",
     "text": [
      "Date           94\n",
      "Type            4\n",
      "Country         1\n",
      "Area           11\n",
      "Activity       38\n",
      "Sex             2\n",
      "Fatal (Y/N)     3\n",
      "dtype: int64\n",
      "\n",
      "\n",
      "Year    59\n",
      "Age     36\n",
      "dtype: int64\n"
     ]
    }
   ],
   "source": [
    "# check unique values\n",
    "print(df[cat_col].nunique())\n",
    "print(\"\\n\")\n",
    "print(df[num_col].nunique())\n"
   ]
  },
  {
   "cell_type": "code",
   "execution_count": 71,
   "metadata": {},
   "outputs": [
    {
     "name": "stdout",
     "output_type": "stream",
     "text": [
      "['N' 'UNKNOWN' 'Y']\n",
      "['Unprovoked' 'Watercraft' 'Invalid' 'Provoked']\n",
      "(86, 9)\n",
      "['Unprovoked' 'Provoked']\n"
     ]
    }
   ],
   "source": [
    "# start removing unwanted values\n",
    "print(df['Fatal (Y/N)'].unique()) # We can remove UNKOWN\n",
    "print(df['Type'].unique()) # We can remove \"Invalid\" and 'Watercraft\"\n",
    "df1 = df[df['Fatal (Y/N)'] != \"UNKNOWN\"]\n",
    "df2 = df1[(df1['Type'] != \"Invalid\") & (df1['Type'] != \"Watercraft\")]\n",
    "print(df2.shape)\n",
    "print(df2['Type'].unique())"
   ]
  },
  {
   "cell_type": "code",
   "execution_count": 72,
   "metadata": {},
   "outputs": [
    {
     "name": "stdout",
     "output_type": "stream",
     "text": [
      "Date            2.33\n",
      "Year            1.16\n",
      "Type            0.00\n",
      "Country         0.00\n",
      "Area            0.00\n",
      "Activity        2.33\n",
      "Sex             2.33\n",
      "Age            32.56\n",
      "Fatal (Y/N)     0.00\n",
      "dtype: float64\n",
      "\n",
      "\n",
      "count    58.000000\n",
      "mean     24.000000\n",
      "std      12.544657\n",
      "min       5.000000\n",
      "25%      14.250000\n",
      "50%      21.000000\n",
      "75%      28.000000\n",
      "max      68.000000\n",
      "Name: Age, dtype: float64\n"
     ]
    }
   ],
   "source": [
    "# Check for the amount of missing data\n",
    "print(round((df2.isnull().sum()/df2.shape[0])*100,2))\n",
    "print(\"\\n\")\n",
    "# Age have a large amount of missing data, followed by Sex, Activity, date, and year\n",
    "print(df2['Age'].describe()) # Since there are outlines, I will use median age instead"
   ]
  },
  {
   "cell_type": "code",
   "execution_count": 73,
   "metadata": {},
   "outputs": [
    {
     "name": "stdout",
     "output_type": "stream",
     "text": [
      "Date           2\n",
      "Year           1\n",
      "Type           0\n",
      "Country        0\n",
      "Area           0\n",
      "Activity       2\n",
      "Sex            2\n",
      "Age            0\n",
      "Fatal (Y/N)    0\n",
      "dtype: int64\n",
      "\n",
      "\n",
      "Date           2.33\n",
      "Year           1.16\n",
      "Type           0.00\n",
      "Country        0.00\n",
      "Area           0.00\n",
      "Activity       2.33\n",
      "Sex            2.33\n",
      "Age            0.00\n",
      "Fatal (Y/N)    0.00\n",
      "dtype: float64\n",
      "\n",
      "\n",
      "(86, 9)\n"
     ]
    }
   ],
   "source": [
    "# Using median imoutation to fill \n",
    "df3 = df2.copy()\n",
    "df3['Age']= df2['Age'].fillna(df2.Age.median())\n",
    "print(df3.isnull().sum())\n",
    "print(\"\\n\")\n",
    "print(round((df3.isnull().sum()/df3.shape[0])*100,2))\n",
    "print(\"\\n\")\n",
    "print(df3.shape)"
   ]
  },
  {
   "cell_type": "code",
   "execution_count": 74,
   "metadata": {},
   "outputs": [
    {
     "name": "stdout",
     "output_type": "stream",
     "text": [
      "Sex\n",
      "M    72\n",
      "F    12\n",
      "Name: count, dtype: int64\n",
      "\n",
      "after:\n",
      "Sex\n",
      "M    74\n",
      "F    12\n",
      "Name: count, dtype: int64\n"
     ]
    }
   ],
   "source": [
    "# Given most shark attack victims are male, I'm getting to assumt the 2 missing values are also male\n",
    "print(df3.Sex.value_counts())\n",
    "df3['Sex']= df3['Sex'].fillna(\"M\")\n",
    "print(\"\\nafter:\")\n",
    "print(df3.Sex.value_counts())"
   ]
  },
  {
   "cell_type": "code",
   "execution_count": 75,
   "metadata": {},
   "outputs": [
    {
     "name": "stdout",
     "output_type": "stream",
     "text": [
      "   Date  Year        Type Country     Area  Activity Sex   Age Fatal (Y/N)\n",
      "97  NaN   NaN  Unprovoked     USA  Florida  Canoeing   M  21.0           Y\n",
      "Date           1.16\n",
      "Year           0.00\n",
      "Type           0.00\n",
      "Country        0.00\n",
      "Area           0.00\n",
      "Activity       2.33\n",
      "Sex            0.00\n",
      "Age            0.00\n",
      "Fatal (Y/N)    0.00\n",
      "dtype: float64\n"
     ]
    }
   ],
   "source": [
    "# Find the entry where the year is missing\n",
    "print(df3[df3['Year'].isna()]) # Since both date and year are missing, I have to drop this row\n",
    "df4 = df3[~df3['Year'].isna()]\n",
    "print(round((df4.isnull().sum()/df3.shape[0])*100,2))"
   ]
  },
  {
   "cell_type": "code",
   "execution_count": 76,
   "metadata": {},
   "outputs": [
    {
     "name": "stdout",
     "output_type": "stream",
     "text": [
      "Date\n",
      "10.0    18\n",
      "7.0     12\n",
      "6.0     11\n",
      "8.0     10\n",
      "9.0      9\n",
      "5.0      6\n",
      "11.0     5\n",
      "3.0      3\n",
      "2.0      3\n",
      "1.0      3\n",
      "4.0      2\n",
      "12.0     2\n",
      "Name: count, dtype: int64\n"
     ]
    },
    {
     "name": "stderr",
     "output_type": "stream",
     "text": [
      "/var/folders/s6/139t539x26v08f_7wk7wfbd80000gn/T/ipykernel_8595/2112100353.py:2: SettingWithCopyWarning: \n",
      "A value is trying to be set on a copy of a slice from a DataFrame.\n",
      "Try using .loc[row_indexer,col_indexer] = value instead\n",
      "\n",
      "See the caveats in the documentation: https://pandas.pydata.org/pandas-docs/stable/user_guide/indexing.html#returning-a-view-versus-a-copy\n",
      "  df4['Date'] = pd.to_datetime(df4['Date'])\n",
      "/var/folders/s6/139t539x26v08f_7wk7wfbd80000gn/T/ipykernel_8595/2112100353.py:4: SettingWithCopyWarning: \n",
      "A value is trying to be set on a copy of a slice from a DataFrame.\n",
      "Try using .loc[row_indexer,col_indexer] = value instead\n",
      "\n",
      "See the caveats in the documentation: https://pandas.pydata.org/pandas-docs/stable/user_guide/indexing.html#returning-a-view-versus-a-copy\n",
      "  df4['Date'] = df4['Date'].dt.month\n"
     ]
    }
   ],
   "source": [
    "# Crop the Date to only month\n",
    "df4['Date'] = pd.to_datetime(df4['Date'])\n",
    "# Extract the month from the 'date' column\n",
    "df4['Date'] = df4['Date'].dt.month\n",
    "print(df4['Date'].value_counts())"
   ]
  },
  {
   "cell_type": "code",
   "execution_count": 77,
   "metadata": {},
   "outputs": [
    {
     "name": "stdout",
     "output_type": "stream",
     "text": [
      "    Date    Year        Type Country     Area          Activity Sex   Age  \\\n",
      "90   NaN  1899.0  Unprovoked     USA  Florida  Hunting crayfish   M  21.0   \n",
      "\n",
      "   Fatal (Y/N)  \n",
      "90           N  \n",
      "Date           0.00\n",
      "Year           0.00\n",
      "Type           0.00\n",
      "Country        0.00\n",
      "Area           0.00\n",
      "Activity       2.35\n",
      "Sex            0.00\n",
      "Age            0.00\n",
      "Fatal (Y/N)    0.00\n",
      "dtype: float64\n"
     ]
    }
   ],
   "source": [
    "# Since October is the month with the most shark attacl, I will assign the missing row to october\n",
    "print(df4[df4['Date'].isna()])\n",
    "df5 = df4.copy()\n",
    "df5['Date']= df4['Date'].fillna(10.0)\n",
    "print(round((df5.isnull().sum()/df5.shape[0])*100,2))"
   ]
  },
  {
   "cell_type": "code",
   "execution_count": 78,
   "metadata": {},
   "outputs": [
    {
     "name": "stdout",
     "output_type": "stream",
     "text": [
      "    Date    Year        Type Country            Area Activity Sex   Age  \\\n",
      "4    3.0  2021.0  Unprovoked     USA         Florida      NaN   F  16.0   \n",
      "82   8.0  1945.0  Unprovoked     USA  North Carolina      NaN   M  21.0   \n",
      "\n",
      "   Fatal (Y/N)  \n",
      "4            N  \n",
      "82           Y  \n",
      "Activity\n",
      "Surfing                                   31\n",
      "Swimming                                  14\n",
      "Fishing                                    5\n",
      "Bathing                                    3\n",
      "Boogie boarding                            2\n",
      "Standing                                   2\n",
      "Spearfishing                               2\n",
      "Swimming 3 miles offshore                  1\n",
      "In waist-deep water                        1\n",
      "Scuba diving (but on surface)              1\n",
      "Escaping from Alacatraz                    1\n",
      "Floating in inner tube                     1\n",
      "Surfing (sitting on his board)             1\n",
      "Scuba diving                               1\n",
      "Swimming with dog near canning factory     1\n",
      "Hoisting shark aboard fishing boat         1\n",
      "Hunting crayfish                           1\n",
      "Steinhart Aquarium                         1\n",
      "Floating on his back                       1\n",
      "Scuba Diving for lobster (at surface)      1\n",
      "Paddling on surfboard                      1\n",
      "Playing / jumping                          1\n",
      "Body surfing                               1\n",
      "Surfing / Wading                           1\n",
      "Paddle-surfing                             1\n",
      "Kite Boarding                              1\n",
      "Kite Surfing                               1\n",
      "Standing in inner tube                     1\n",
      "Spearfishing / Diving                      1\n",
      "Snorkeling                                 1\n",
      "Fell overboard                             1\n",
      "Name: count, dtype: int64\n"
     ]
    }
   ],
   "source": [
    "# Now to have some activities missing\n",
    "print(df5[df5['Activity'].isna()])\n",
    "print(df5['Activity'].value_counts()) "
   ]
  },
  {
   "cell_type": "code",
   "execution_count": null,
   "metadata": {},
   "outputs": [],
   "source": [
    "# There's a lot of activities written differently, I will rename them\n",
    "keyword_swim = [\"Swimming\", \"Wading\"]\n",
    "\n",
    "keyword_dive = []"
   ]
  },
  {
   "cell_type": "code",
   "execution_count": 79,
   "metadata": {},
   "outputs": [
    {
     "name": "stdout",
     "output_type": "stream",
     "text": [
      "Date           False\n",
      "Year           False\n",
      "Type           False\n",
      "Country        False\n",
      "Area           False\n",
      "Activity       False\n",
      "Sex            False\n",
      "Age            False\n",
      "Fatal (Y/N)    False\n",
      "dtype: bool\n"
     ]
    }
   ],
   "source": [
    "# Since surfing is the most common one, I will code the other missing cases as surfing\n",
    "df5['Activity'] = df5['Activity'].fillna(\"Surfing\")\n",
    "print(df5.isna().any()) # all clean!\n",
    "\n",
    "df5.to_csv('small_shark_data_clean.csv', index=False)"
   ]
  },
  {
   "cell_type": "code",
   "execution_count": 80,
   "metadata": {},
   "outputs": [
    {
     "data": {
      "image/png": "[encoded data removed]",
      "text/plain": [
       "<Figure size 640x480 with 1 Axes>"
      ]
     },
     "metadata": {},
     "output_type": "display_data"
    }
   ],
   "source": [
    "# Data visualization\n",
    "\n",
    "# box plot\n",
    "plt.boxplot(df5['Age'])\n",
    "# plt.show()\n",
    "\n",
    "# pie chart\n",
    "mylabels = [\"M\", \"F\"]\n",
    "plt.pie(df5['Sex'].value_counts(), labels=mylabels, explode = [0.2, 0])\n",
    "plt.show()"
   ]
  }
 ],
 "metadata": {
  "kernelspec": {
   "display_name": "Python 3",
   "language": "python",
   "name": "python3"
  },
  "language_info": {
   "codemirror_mode": {
    "name": "ipython",
    "version": 3
   },
   "file_extension": ".py",
   "mimetype": "text/x-python",
   "name": "python",
   "nbconvert_exporter": "python",
   "pygments_lexer": "ipython3",
   "version": "3.11.5"
  }
 },
 "nbformat": 4,
 "nbformat_minor": 2
}
